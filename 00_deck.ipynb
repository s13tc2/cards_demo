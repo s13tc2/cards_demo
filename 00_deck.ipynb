{
 "cells": [
  {
   "cell_type": "code",
   "execution_count": null,
   "id": "ffb117dd-f66c-429c-b382-b13c58367863",
   "metadata": {},
   "outputs": [],
   "source": [
    "#default_exp deck"
   ]
  },
  {
   "cell_type": "markdown",
   "id": "5cf91a57-6b23-40fc-b238-3286eb705ad4",
   "metadata": {},
   "source": [
    "# Deck\n",
    "\n",
    "> Deck of cards"
   ]
  },
  {
   "cell_type": "code",
   "execution_count": null,
   "id": "f278bcb7-d497-4860-98e0-e16916c82bad",
   "metadata": {},
   "outputs": [],
   "source": [
    "#export\n",
    "#hide\n",
    "from nbdev.showdoc import *\n",
    "from cards_demo.card import Card"
   ]
  },
  {
   "cell_type": "code",
   "execution_count": null,
   "id": "18ee2041-2c18-42c6-9aa7-87a6452f94f8",
   "metadata": {},
   "outputs": [],
   "source": [
    "#export\n",
    "class Deck:\n",
    "    \"\"\"Represents a deck of cards.\n",
    "    Attributes:\n",
    "      cards: list of Card objects.\n",
    "    \"\"\"\n",
    "    \n",
    "    def __init__(self):\n",
    "        \"\"\"Initializes the Deck with 52 cards.\n",
    "        \"\"\"\n",
    "        self.cards = []\n",
    "        for suit in range(4):\n",
    "            for rank in range(1, 14):\n",
    "                card = Card(suit, rank)\n",
    "                self.cards.append(card)\n",
    "\n",
    "    def __str__(self):\n",
    "        \"\"\"Returns a string representation of the deck.\n",
    "        \"\"\"\n",
    "        res = []\n",
    "        for card in self.cards:\n",
    "            res.append(str(card))\n",
    "        return '\\n'.join(res)\n",
    "\n",
    "    def add_card(self, card):\n",
    "        \"\"\"Adds a card to the deck.\n",
    "        card: Card\n",
    "        \"\"\"\n",
    "        self.cards.append(card)\n",
    "\n",
    "    def remove_card(self, card):\n",
    "        \"\"\"Removes a card from the deck or raises exception if it is not there.\n",
    "        \n",
    "        card: Card\n",
    "        \"\"\"\n",
    "        self.cards.remove(card)\n",
    "\n",
    "    def pop_card(self, i=-1):\n",
    "        \"\"\"Removes and returns a card from the deck.\n",
    "        i: index of the card to pop; by default, pops the last card.\n",
    "        \"\"\"\n",
    "        return self.cards.pop(i)\n",
    "\n",
    "    def shuffle(self):\n",
    "        \"\"\"Shuffles the cards in this deck.\"\"\"\n",
    "        random.shuffle(self.cards)\n",
    "\n",
    "    def sort(self):\n",
    "        \"\"\"Sorts the cards in ascending order.\"\"\"\n",
    "        self.cards.sort()\n",
    "\n",
    "    def move_cards(self, hand, num):\n",
    "        \"\"\"Moves the given number of cards from the deck into the Hand.\n",
    "        hand: destination Hand object\n",
    "        num: integer number of cards to move\n",
    "        \"\"\"\n",
    "        for i in range(num):\n",
    "            hand.add_card(self.pop_card())"
   ]
  },
  {
   "cell_type": "code",
   "execution_count": null,
   "id": "03ebafd4-b933-42ad-95d2-93baa0b52a31",
   "metadata": {},
   "outputs": [],
   "source": [
    "#export\n",
    "#hide\n",
    "def hamel(): pass"
   ]
  },
  {
   "cell_type": "markdown",
   "id": "b1f5a31a-dbdf-4c69-8fcf-2fa626310b9f",
   "metadata": {},
   "source": [
    "A Deck of cards is a collection of Card objects:"
   ]
  },
  {
   "cell_type": "code",
   "execution_count": null,
   "id": "478241d7-bf86-4d61-ba85-4f3557ab2945",
   "metadata": {},
   "outputs": [
    {
     "data": {
      "text/plain": [
       "King of Spades"
      ]
     },
     "execution_count": null,
     "metadata": {},
     "output_type": "execute_result"
    }
   ],
   "source": [
    "deck = Deck()\n",
    "deck.pop_card()"
   ]
  },
  {
   "cell_type": "code",
   "execution_count": null,
   "id": "476603d0-7b4f-4c6d-b06d-4d185ae76f30",
   "metadata": {},
   "outputs": [],
   "source": [
    "assert isinstance(deck.pop_card(), Card)"
   ]
  },
  {
   "cell_type": "code",
   "execution_count": null,
   "id": "1f2d2e3c-4fcf-4311-ba79-6a4d8c8c1258",
   "metadata": {},
   "outputs": [
    {
     "data": {
      "text/markdown": [
       "<h4 id=\"Deck.remove_card\" class=\"doc_header\"><code>Deck.remove_card</code><a href=\"__main__.py#L31\" class=\"source_link\" style=\"float:right\">[source]</a></h4>\n",
       "\n",
       "> <code>Deck.remove_card</code>(**`card`**)\n",
       "\n",
       "Removes a card from the deck or raises exception if it is not there.\n",
       "\n",
       "card: Card"
      ],
      "text/plain": [
       "<IPython.core.display.Markdown object>"
      ]
     },
     "metadata": {},
     "output_type": "display_data"
    }
   ],
   "source": [
    "show_doc(Deck.remove_card)"
   ]
  },
  {
   "cell_type": "markdown",
   "id": "fb7aeabb-5ecc-4a42-a370-7f06c2394417",
   "metadata": {},
   "source": [
    "If we remove a card from a Deck we can verify it no longer exists. "
   ]
  },
  {
   "cell_type": "code",
   "execution_count": null,
   "id": "c1298d47-ca90-49ba-a894-746165cf2d33",
   "metadata": {},
   "outputs": [],
   "source": [
    "deck = Deck()\n",
    "c = Card(2, 3)\n",
    "deck.remove_card(c)\n",
    "\n",
    "assert c not in deck.cards"
   ]
  },
  {
   "cell_type": "markdown",
   "id": "e8156902-78cd-47d3-be18-75c65ece10a8",
   "metadata": {},
   "source": [
    "However, another card that we haven't removed, such as the 10 of hearts will still be in the Deck of cards because we haven't removed it."
   ]
  },
  {
   "cell_type": "code",
   "execution_count": null,
   "id": "6b5e9a03-a5e3-43d1-8cb3-40be6db0e92e",
   "metadata": {},
   "outputs": [],
   "source": [
    "c2 = Card(2, 10)\n",
    "assert c2 in deck.cards"
   ]
  },
  {
   "cell_type": "code",
   "execution_count": null,
   "id": "1aefe30c-028c-4f6a-881f-577ea3a4a190",
   "metadata": {},
   "outputs": [],
   "source": []
  },
  {
   "cell_type": "code",
   "execution_count": null,
   "id": "088fa03b-bcc0-414a-add0-d5a0fe9ba9a9",
   "metadata": {},
   "outputs": [],
   "source": []
  },
  {
   "cell_type": "code",
   "execution_count": null,
   "id": "b37e114f-2591-4b90-8196-3fa151f7a51a",
   "metadata": {},
   "outputs": [],
   "source": []
  },
  {
   "cell_type": "code",
   "execution_count": null,
   "id": "4209d44a-629f-4128-8be8-a23f0211cb82",
   "metadata": {},
   "outputs": [],
   "source": []
  },
  {
   "cell_type": "code",
   "execution_count": null,
   "id": "72114c1f-d617-42bc-b7c9-5bd5852075d6",
   "metadata": {},
   "outputs": [],
   "source": []
  }
 ],
 "metadata": {
  "kernelspec": {
   "display_name": "nbdev",
   "language": "python",
   "name": "nbdev"
  }
 },
 "nbformat": 4,
 "nbformat_minor": 5
}
